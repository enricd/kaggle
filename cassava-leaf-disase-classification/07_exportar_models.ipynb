{
 "cells": [
  {
   "cell_type": "code",
   "execution_count": 2,
   "metadata": {
    "ExecuteTime": {
     "end_time": "2020-12-30T17:03:00.197736Z",
     "start_time": "2020-12-30T17:03:00.113662Z"
    }
   },
   "outputs": [],
   "source": [
    "import pytorch_lightning as pl\n",
    "import torch \n",
    "from pytorch_lightning.metrics.functional.classification import accuracy\n",
    "from tqdm import tqdm\n",
    "from src import DataModule, Model\n",
    "import torchvision\n",
    "import pandas as pd \n",
    "from pathlib import Path\n",
    "from skimage import io\n",
    "import glob"
   ]
  },
  {
   "cell_type": "code",
   "execution_count": 3,
   "metadata": {
    "ExecuteTime": {
     "end_time": "2020-12-30T17:03:01.262303Z",
     "start_time": "2020-12-30T17:03:01.252302Z"
    }
   },
   "outputs": [
    {
     "data": {
      "text/plain": [
       "['seresnext50_32x4d-256-val_acc=0.59531.ckpt',\n",
       " 'seresnext50_32x4d-256-val_acc=0.78125.ckpt',\n",
       " 'seresnext50_32x4d-256-val_acc=0.80156.ckpt',\n",
       " 'seresnext50_32x4d-256-val_acc=0.80625.ckpt',\n",
       " 'seresnext50_32x4d-256-val_acc=0.83906.ckpt']"
      ]
     },
     "execution_count": 3,
     "metadata": {},
     "output_type": "execute_result"
    }
   ],
   "source": [
    "glob.glob('seresnext*')"
   ]
  },
  {
   "cell_type": "code",
   "execution_count": 5,
   "metadata": {
    "ExecuteTime": {
     "end_time": "2020-12-30T17:03:44.078263Z",
     "start_time": "2020-12-30T17:03:43.475749Z"
    }
   },
   "outputs": [
    {
     "data": {
      "text/plain": [
       "\"backbone\":      seresnext50_32x4d\n",
       "\"batch_size\":    128\n",
       "\"es_start_from\": 0\n",
       "\"extra_data\":    1\n",
       "\"lr\":            1e-05\n",
       "\"max_epochs\":    10\n",
       "\"num_workers\":   20\n",
       "\"optimizer\":     Adam\n",
       "\"patience\":      3\n",
       "\"precision\":     16\n",
       "\"pretrained\":    True\n",
       "\"scheduler\":     {'OneCycleLR': {'max_lr': 0.001, 'total_steps': 10, 'pct_start': 0.2, 'verbose': True}}\n",
       "\"size\":          256\n",
       "\"subset\":        0.1\n",
       "\"train_trans\":   {'RandomCrop': {'height': 256, 'width': 256}, 'HorizontalFlip': {}, 'VerticalFlip': {}, 'Normalize': {}}\n",
       "\"unfreeze\":      0\n",
       "\"val_batches\":   5\n",
       "\"val_trans\":     {'CenterCrop': {'height': 256, 'width': 256}, 'Normalize': {}}"
      ]
     },
     "execution_count": 5,
     "metadata": {},
     "output_type": "execute_result"
    }
   ],
   "source": [
    "model = Model.load_from_checkpoint(checkpoint_path='seresnext50_32x4d-256-val_acc=0.83906.ckpt')\n",
    "model.hparams"
   ]
  },
  {
   "cell_type": "code",
   "execution_count": 6,
   "metadata": {
    "ExecuteTime": {
     "end_time": "2020-12-30T17:04:04.654510Z",
     "start_time": "2020-12-30T17:04:04.635935Z"
    },
    "code_folding": [
     0
    ]
   },
   "outputs": [],
   "source": [
    " def evaluate(model, dl):   \n",
    "    model.eval()\n",
    "    model.cuda()\n",
    "    acc = []\n",
    "    with torch.no_grad():\n",
    "        t = tqdm(dl)\n",
    "        for x, y in t:\n",
    "            x, y = x.cuda(), y.cuda()\n",
    "            y_hat = model(x)\n",
    "            acc.append(accuracy(y_hat, y).item())\n",
    "            t.set_description(f\"acc {np.mean(acc):.5f}\")"
   ]
  },
  {
   "cell_type": "code",
   "execution_count": 7,
   "metadata": {
    "ExecuteTime": {
     "end_time": "2020-12-30T17:04:04.808416Z",
     "start_time": "2020-12-30T17:04:04.775925Z"
    },
    "code_folding": []
   },
   "outputs": [
    {
     "name": "stdout",
     "output_type": "stream",
     "text": [
      "Training samples:  21642\n",
      "Validation samples:  5411\n"
     ]
    }
   ],
   "source": [
    "dm = DataModule(\n",
    "    file = 'data_extra', \n",
    "    batch_size=256,\n",
    "    val_trans={\n",
    "        'CenterCrop': {\n",
    "            'height': 256, \n",
    "            'width': 256\n",
    "        },\n",
    "        'Normalize': {}\n",
    "    }\n",
    ")\n",
    "dm.setup()"
   ]
  },
  {
   "cell_type": "code",
   "execution_count": 8,
   "metadata": {
    "ExecuteTime": {
     "end_time": "2020-12-30T17:05:39.421185Z",
     "start_time": "2020-12-30T17:04:05.397156Z"
    }
   },
   "outputs": [
    {
     "name": "stderr",
     "output_type": "stream",
     "text": [
      "acc 0.82797: 100%|█████████████████████████████████████████| 22/22 [01:32<00:00,  4.21s/it]\n"
     ]
    }
   ],
   "source": [
    "evaluate(model, dm.val_dataloader())"
   ]
  },
  {
   "cell_type": "code",
   "execution_count": 9,
   "metadata": {
    "ExecuteTime": {
     "end_time": "2020-12-30T17:05:39.437181Z",
     "start_time": "2020-12-30T17:05:39.424181Z"
    },
    "code_folding": [
     0
    ]
   },
   "outputs": [],
   "source": [
    " def evaluate_tta(model, dl, tta = 1, limit = 1):   \n",
    "    model.eval()\n",
    "    model.cuda()\n",
    "    tta_preds = []\n",
    "    for i in range(tta):\n",
    "        preds = torch.tensor([]).cuda()\n",
    "        labels = torch.tensor([]).cuda()\n",
    "        with torch.no_grad():\n",
    "            t = tqdm(dl)\n",
    "            for b, (x, y) in enumerate(t):\n",
    "                x, y = x.cuda(), y.cuda()\n",
    "                labels = torch.cat([labels, y])\n",
    "                y_hat = model(x)\n",
    "                preds = torch.cat([preds, y_hat])\n",
    "                if b >= int(limit*len(dl)): \n",
    "                    break\n",
    "        tta_preds.append(preds)\n",
    "    tta_preds = torch.stack(tta_preds).mean(axis=0)\n",
    "    return accuracy(tta_preds, labels).item()"
   ]
  },
  {
   "cell_type": "code",
   "execution_count": 10,
   "metadata": {
    "ExecuteTime": {
     "end_time": "2020-12-30T17:06:41.711902Z",
     "start_time": "2020-12-30T17:05:39.439182Z"
    }
   },
   "outputs": [
    {
     "name": "stderr",
     "output_type": "stream",
     "text": [
      " 32%|█████████████████▌                                     | 7/22 [00:20<00:43,  2.92s/it]\n",
      " 32%|█████████████████▌                                     | 7/22 [00:20<00:43,  2.90s/it]\n",
      " 32%|█████████████████▌                                     | 7/22 [00:19<00:42,  2.84s/it]\n"
     ]
    },
    {
     "data": {
      "text/plain": [
       "0.82080078125"
      ]
     },
     "execution_count": 10,
     "metadata": {},
     "output_type": "execute_result"
    }
   ],
   "source": [
    "tta_preds = evaluate_tta(model, dm.val_dataloader(), tta=3, limit=0.33)\n",
    "tta_preds"
   ]
  },
  {
   "cell_type": "code",
   "execution_count": 11,
   "metadata": {
    "ExecuteTime": {
     "end_time": "2020-12-30T17:09:13.630114Z",
     "start_time": "2020-12-30T17:08:11.816335Z"
    },
    "code_folding": [
     0
    ]
   },
   "outputs": [
    {
     "name": "stderr",
     "output_type": "stream",
     "text": [
      "\r",
      "  0%|                                                               | 0/22 [00:00<?, ?it/s]"
     ]
    },
    {
     "name": "stdout",
     "output_type": "stream",
     "text": [
      "Training samples:  21642\n",
      "Validation samples:  5411\n"
     ]
    },
    {
     "name": "stderr",
     "output_type": "stream",
     "text": [
      " 32%|█████████████████▌                                     | 7/22 [00:20<00:44,  2.95s/it]\n",
      " 32%|█████████████████▌                                     | 7/22 [00:19<00:42,  2.85s/it]\n",
      " 32%|█████████████████▌                                     | 7/22 [00:19<00:41,  2.80s/it]\n"
     ]
    },
    {
     "data": {
      "text/plain": [
       "0.82861328125"
      ]
     },
     "execution_count": 11,
     "metadata": {},
     "output_type": "execute_result"
    }
   ],
   "source": [
    "dm = DataModule(\n",
    "    file = 'data_extra', \n",
    "    batch_size=256,\n",
    "    val_trans={\n",
    "        'RandomCrop': {\n",
    "            'height': 256, \n",
    "            'width': 256\n",
    "        },\n",
    "        'HorizontalFlip': {},\n",
    "        'VerticalFlip': {},\n",
    "        'Normalize': {}\n",
    "    }\n",
    ")\n",
    "dm.setup()\n",
    "\n",
    "tta_preds = evaluate_tta(model, dm.val_dataloader(), tta=3, limit=0.33)\n",
    "tta_preds"
   ]
  },
  {
   "cell_type": "code",
   "execution_count": 12,
   "metadata": {
    "ExecuteTime": {
     "end_time": "2020-12-30T17:10:57.641435Z",
     "start_time": "2020-12-30T17:10:57.632928Z"
    }
   },
   "outputs": [
    {
     "data": {
      "text/plain": [
       "1"
      ]
     },
     "execution_count": 12,
     "metadata": {},
     "output_type": "execute_result"
    }
   ],
   "source": [
    "path = Path('./data/test_images')\n",
    "images = os.listdir(path)\n",
    "images_paths = [str(path/img) for img in images]\n",
    "len(images)"
   ]
  },
  {
   "cell_type": "code",
   "execution_count": 13,
   "metadata": {
    "ExecuteTime": {
     "end_time": "2020-12-30T17:10:57.778436Z",
     "start_time": "2020-12-30T17:10:57.759436Z"
    }
   },
   "outputs": [],
   "source": [
    "import cv2\n",
    "\n",
    "class Dataset(torch.utils.data.Dataset):\n",
    "    def __init__(self, imgs, trans=None):\n",
    "        self.imgs = imgs\n",
    "        self.trans = trans\n",
    "\n",
    "    def __len__(self):\n",
    "        return len(self.imgs)\n",
    "\n",
    "    def __getitem__(self, ix):\n",
    "        img = cv2.imread(self.imgs[ix])\n",
    "        img = cv2.cvtColor(img, cv2.COLOR_BGR2RGB)\n",
    "        if self.trans:\n",
    "            img = self.trans(image=img)['image']\n",
    "        img = torch.tensor(img, dtype=torch.float).permute(2,0,1)\n",
    "        return img"
   ]
  },
  {
   "cell_type": "code",
   "execution_count": 14,
   "metadata": {
    "ExecuteTime": {
     "end_time": "2020-12-30T17:10:59.628498Z",
     "start_time": "2020-12-30T17:10:59.621499Z"
    }
   },
   "outputs": [],
   "source": [
    "import albumentations as A\n",
    "trans = A.Compose([\n",
    "    A.RandomCrop(256,256),\n",
    "    A.Normalize()\n",
    "])\n",
    "dataset = Dataset(images_paths, trans)\n",
    "dataloader = torch.utils.data.DataLoader(dataset, batch_size=10, shuffle=False)"
   ]
  },
  {
   "cell_type": "code",
   "execution_count": 15,
   "metadata": {
    "ExecuteTime": {
     "end_time": "2020-12-30T17:10:59.765502Z",
     "start_time": "2020-12-30T17:10:59.754502Z"
    },
    "code_folding": [
     0
    ]
   },
   "outputs": [],
   "source": [
    " def predict(model, dl, tta = 1):   \n",
    "    model.eval()\n",
    "    model.cuda()\n",
    "    tta_preds = []\n",
    "    for i in range(tta):\n",
    "        preds = torch.tensor([]).cuda()\n",
    "        with torch.no_grad():\n",
    "            t = tqdm(dl)\n",
    "            for b, x in enumerate(t):\n",
    "                x = x.cuda()\n",
    "                y_hat = model(x)\n",
    "                preds = torch.cat([preds, y_hat])\n",
    "        tta_preds.append(preds)\n",
    "    tta_preds = torch.stack(tta_preds).mean(axis=0)\n",
    "    return torch.argmax(tta_preds, axis=1).cpu().numpy()"
   ]
  },
  {
   "cell_type": "code",
   "execution_count": 16,
   "metadata": {
    "ExecuteTime": {
     "end_time": "2020-12-30T17:11:00.288517Z",
     "start_time": "2020-12-30T17:10:59.876499Z"
    }
   },
   "outputs": [
    {
     "name": "stderr",
     "output_type": "stream",
     "text": [
      "100%|████████████████████████████████████████████████████████| 1/1 [00:00<00:00, 18.86it/s]\n",
      "100%|████████████████████████████████████████████████████████| 1/1 [00:00<00:00, 31.25it/s]\n",
      "100%|████████████████████████████████████████████████████████| 1/1 [00:00<00:00, 31.25it/s]\n",
      "100%|████████████████████████████████████████████████████████| 1/1 [00:00<00:00, 28.57it/s]\n",
      "100%|████████████████████████████████████████████████████████| 1/1 [00:00<00:00, 23.26it/s]\n",
      "100%|████████████████████████████████████████████████████████| 1/1 [00:00<00:00, 31.25it/s]\n",
      "100%|████████████████████████████████████████████████████████| 1/1 [00:00<00:00, 27.78it/s]\n",
      "100%|████████████████████████████████████████████████████████| 1/1 [00:00<00:00, 27.78it/s]\n",
      "100%|████████████████████████████████████████████████████████| 1/1 [00:00<00:00, 28.57it/s]\n",
      "100%|████████████████████████████████████████████████████████| 1/1 [00:00<00:00, 30.30it/s]\n"
     ]
    },
    {
     "data": {
      "text/plain": [
       "array([4], dtype=int64)"
      ]
     },
     "execution_count": 16,
     "metadata": {},
     "output_type": "execute_result"
    }
   ],
   "source": [
    "preds = predict(model, dataloader, tta=10)\n",
    "preds"
   ]
  },
  {
   "cell_type": "code",
   "execution_count": 17,
   "metadata": {
    "ExecuteTime": {
     "end_time": "2020-12-30T17:11:00.599553Z",
     "start_time": "2020-12-30T17:11:00.580518Z"
    }
   },
   "outputs": [
    {
     "data": {
      "text/html": [
       "<div>\n",
       "<style scoped>\n",
       "    .dataframe tbody tr th:only-of-type {\n",
       "        vertical-align: middle;\n",
       "    }\n",
       "\n",
       "    .dataframe tbody tr th {\n",
       "        vertical-align: top;\n",
       "    }\n",
       "\n",
       "    .dataframe thead th {\n",
       "        text-align: right;\n",
       "    }\n",
       "</style>\n",
       "<table border=\"1\" class=\"dataframe\">\n",
       "  <thead>\n",
       "    <tr style=\"text-align: right;\">\n",
       "      <th></th>\n",
       "      <th>image_id</th>\n",
       "      <th>label</th>\n",
       "    </tr>\n",
       "  </thead>\n",
       "  <tbody>\n",
       "    <tr>\n",
       "      <th>0</th>\n",
       "      <td>2216849948.jpg</td>\n",
       "      <td>4</td>\n",
       "    </tr>\n",
       "  </tbody>\n",
       "</table>\n",
       "</div>"
      ],
      "text/plain": [
       "         image_id  label\n",
       "0  2216849948.jpg      4"
      ]
     },
     "execution_count": 17,
     "metadata": {},
     "output_type": "execute_result"
    }
   ],
   "source": [
    "submission = pd.DataFrame({'image_id': images, 'label': preds })\n",
    "submission"
   ]
  },
  {
   "cell_type": "code",
   "execution_count": 18,
   "metadata": {
    "ExecuteTime": {
     "end_time": "2020-12-30T17:11:01.231403Z",
     "start_time": "2020-12-30T17:11:01.212402Z"
    }
   },
   "outputs": [],
   "source": [
    "submission.to_csv('submission.csv', index=False)"
   ]
  },
  {
   "cell_type": "code",
   "execution_count": null,
   "metadata": {},
   "outputs": [],
   "source": []
  }
 ],
 "metadata": {
  "kernelspec": {
   "display_name": "Python 3",
   "language": "python",
   "name": "python3"
  },
  "language_info": {
   "codemirror_mode": {
    "name": "ipython",
    "version": 3
   },
   "file_extension": ".py",
   "mimetype": "text/x-python",
   "name": "python",
   "nbconvert_exporter": "python",
   "pygments_lexer": "ipython3",
   "version": "3.7.6"
  },
  "toc": {
   "base_numbering": 1,
   "nav_menu": {},
   "number_sections": true,
   "sideBar": true,
   "skip_h1_title": false,
   "title_cell": "Table of Contents",
   "title_sidebar": "Contents",
   "toc_cell": false,
   "toc_position": {},
   "toc_section_display": true,
   "toc_window_display": false
  }
 },
 "nbformat": 4,
 "nbformat_minor": 4
}
