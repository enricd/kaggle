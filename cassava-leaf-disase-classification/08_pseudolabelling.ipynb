{
 "cells": [
  {
   "cell_type": "code",
   "execution_count": 1,
   "metadata": {},
   "outputs": [
    {
     "data": {
      "text/plain": [
       "('1.7.0', '0.3.2')"
      ]
     },
     "execution_count": 1,
     "metadata": {},
     "output_type": "execute_result"
    }
   ],
   "source": [
    "import pytorch_lightning as pl\n",
    "import torch \n",
    "from pytorch_lightning.metrics.functional.classification import accuracy\n",
    "from tqdm import tqdm\n",
    "from src import DataModule, TIMM\n",
    "import torchvision\n",
    "import pandas as pd \n",
    "from pathlib import Path\n",
    "from skimage import io\n",
    "import glob\n",
    "import cv2\n",
    "import timm\n",
    "\n",
    "torch.__version__, timm.__version__"
   ]
  },
  {
   "cell_type": "code",
   "execution_count": 2,
   "metadata": {},
   "outputs": [
    {
     "data": {
      "text/plain": [
       "['efficientnet_b3-256-val_acc=0.83750.ckpt',\n",
       " 'efficientnet-b5-256-val_acc=0.81250.ckpt',\n",
       " 'efficientnet_b3-256-val_acc=0.85899.ckpt',\n",
       " 'efficientnet-b0-256-val_acc=0.69766.ckpt']"
      ]
     },
     "execution_count": 2,
     "metadata": {},
     "output_type": "execute_result"
    }
   ],
   "source": [
    "models = glob.glob('efficientnet*.ckpt')\n",
    "models"
   ]
  },
  {
   "cell_type": "code",
   "execution_count": 3,
   "metadata": {},
   "outputs": [
    {
     "data": {
      "text/plain": [
       "\"backbone\":      efficientnet_b3\n",
       "\"batch_size\":    128\n",
       "\"es_start_from\": 0\n",
       "\"extra_data\":    1\n",
       "\"lr\":            0.0003\n",
       "\"max_epochs\":    50\n",
       "\"num_workers\":   20\n",
       "\"optimizer\":     Adam\n",
       "\"patience\":      3\n",
       "\"precision\":     16\n",
       "\"size\":          256\n",
       "\"subset\":        0.0\n",
       "\"train_trans\":   {'RandomCrop': {'height': 256, 'width': 256}, 'HorizontalFlip': {}, 'VerticalFlip': {}, 'Normalize': {}}\n",
       "\"val_batches\":   1.0\n",
       "\"val_trans\":     {'CenterCrop': {'height': 256, 'width': 256}, 'Normalize': {}}"
      ]
     },
     "execution_count": 3,
     "metadata": {},
     "output_type": "execute_result"
    }
   ],
   "source": [
    "model = TIMM.load_from_checkpoint(checkpoint_path='efficientnet_b3-256-val_acc=0.85899.ckpt')\n",
    "model.hparams"
   ]
  },
  {
   "cell_type": "code",
   "execution_count": 4,
   "metadata": {
    "code_folding": [
     0
    ]
   },
   "outputs": [],
   "source": [
    "class FinalModel(torch.nn.Module):\n",
    "    def __init__(self, model):\n",
    "        super().__init__()\n",
    "        self.model = model\n",
    "        self.trans = torch.nn.Sequential(\n",
    "            torchvision.transforms.CenterCrop(256),\n",
    "            torchvision.transforms.Normalize((0.485, 0.456, 0.406), (0.229, 0.224, 0.225))\n",
    "        )\n",
    "        self.trans_tta = torch.nn.Sequential(\n",
    "            torchvision.transforms.RandomCrop(256),\n",
    "            torchvision.transforms.RandomHorizontalFlip(),\n",
    "            torchvision.transforms.RandomVerticalFlip(),\n",
    "            torchvision.transforms.Normalize((0.485, 0.456, 0.406), (0.229, 0.224, 0.225))\n",
    "        )\n",
    "    \n",
    "    def forward(self, x, tta : int = 0):\n",
    "        x = x.float() / 255.\n",
    "        x = x.permute(2, 0, 1)\n",
    "        if tta == 0:\n",
    "            imgs = self.trans(x).unsqueeze(0)\n",
    "            y_hat = self.model(imgs)[0]\n",
    "        else:\n",
    "            imgs = torch.stack([self.trans_tta(x) for i in range(tta)])\n",
    "            y_hat = self.model(imgs).mean(dim=0)\n",
    "        return torch.softmax(y_hat, dim=0)"
   ]
  },
  {
   "cell_type": "code",
   "execution_count": 5,
   "metadata": {},
   "outputs": [],
   "source": [
    "final_model = FinalModel(model.m.cpu())"
   ]
  },
  {
   "cell_type": "code",
   "execution_count": 6,
   "metadata": {},
   "outputs": [
    {
     "data": {
      "text/plain": [
       "3774"
      ]
     },
     "execution_count": 6,
     "metadata": {},
     "output_type": "execute_result"
    }
   ],
   "source": [
    "path = Path('data')\n",
    "images_path = Path('extra/test/0')\n",
    "images = os.listdir(path/images_path)\n",
    "images_paths = [str(images_path/img) for img in images]\n",
    "len(images)"
   ]
  },
  {
   "cell_type": "code",
   "execution_count": 7,
   "metadata": {
    "code_folding": []
   },
   "outputs": [],
   "source": [
    "def predict(model, imgs, tta=0, t = 0.95):   \n",
    "    model.eval()\n",
    "    model.cuda()\n",
    "    preds, images = [], []\n",
    "    with torch.no_grad():\n",
    "        for img_name in tqdm(imgs):\n",
    "            img = cv2.imread(str(path/img_name))\n",
    "            img = cv2.cvtColor(img, cv2.COLOR_BGR2RGB)\n",
    "            img = torch.from_numpy(img).cuda()\n",
    "            y_hat = model(img, tta).cpu()\n",
    "            max_ix = torch.argmax(y_hat)\n",
    "            if y_hat[max_ix] >= t:\n",
    "                preds.append(max_ix.item())\n",
    "                images.append(img_name)\n",
    "\n",
    "    return preds, images"
   ]
  },
  {
   "cell_type": "code",
   "execution_count": 8,
   "metadata": {},
   "outputs": [
    {
     "name": "stderr",
     "output_type": "stream",
     "text": [
      "100%|██████████| 3774/3774 [01:52<00:00, 33.45it/s]\n"
     ]
    },
    {
     "data": {
      "text/plain": [
       "2255"
      ]
     },
     "execution_count": 8,
     "metadata": {},
     "output_type": "execute_result"
    }
   ],
   "source": [
    "preds, images = predict(final_model, images_paths)\n",
    "len(preds)"
   ]
  },
  {
   "cell_type": "code",
   "execution_count": 9,
   "metadata": {},
   "outputs": [
    {
     "data": {
      "text/html": [
       "<div>\n",
       "<style scoped>\n",
       "    .dataframe tbody tr th:only-of-type {\n",
       "        vertical-align: middle;\n",
       "    }\n",
       "\n",
       "    .dataframe tbody tr th {\n",
       "        vertical-align: top;\n",
       "    }\n",
       "\n",
       "    .dataframe thead th {\n",
       "        text-align: right;\n",
       "    }\n",
       "</style>\n",
       "<table border=\"1\" class=\"dataframe\">\n",
       "  <thead>\n",
       "    <tr style=\"text-align: right;\">\n",
       "      <th></th>\n",
       "      <th>image_id</th>\n",
       "      <th>label</th>\n",
       "    </tr>\n",
       "  </thead>\n",
       "  <tbody>\n",
       "    <tr>\n",
       "      <th>0</th>\n",
       "      <td>extra/test/0/test-img-1292.jpg</td>\n",
       "      <td>1</td>\n",
       "    </tr>\n",
       "    <tr>\n",
       "      <th>1</th>\n",
       "      <td>extra/test/0/test-img-809.jpg</td>\n",
       "      <td>1</td>\n",
       "    </tr>\n",
       "    <tr>\n",
       "      <th>2</th>\n",
       "      <td>extra/test/0/test-img-2149.jpg</td>\n",
       "      <td>1</td>\n",
       "    </tr>\n",
       "    <tr>\n",
       "      <th>3</th>\n",
       "      <td>extra/test/0/test-img-406.jpg</td>\n",
       "      <td>1</td>\n",
       "    </tr>\n",
       "    <tr>\n",
       "      <th>4</th>\n",
       "      <td>extra/test/0/test-img-94.jpg</td>\n",
       "      <td>3</td>\n",
       "    </tr>\n",
       "    <tr>\n",
       "      <th>...</th>\n",
       "      <td>...</td>\n",
       "      <td>...</td>\n",
       "    </tr>\n",
       "    <tr>\n",
       "      <th>2250</th>\n",
       "      <td>extra/test/0/test-img-421.jpg</td>\n",
       "      <td>2</td>\n",
       "    </tr>\n",
       "    <tr>\n",
       "      <th>2251</th>\n",
       "      <td>extra/test/0/test-img-25.jpg</td>\n",
       "      <td>3</td>\n",
       "    </tr>\n",
       "    <tr>\n",
       "      <th>2252</th>\n",
       "      <td>extra/test/0/test-img-1553.jpg</td>\n",
       "      <td>3</td>\n",
       "    </tr>\n",
       "    <tr>\n",
       "      <th>2253</th>\n",
       "      <td>extra/test/0/test-img-219.jpg</td>\n",
       "      <td>2</td>\n",
       "    </tr>\n",
       "    <tr>\n",
       "      <th>2254</th>\n",
       "      <td>extra/test/0/test-img-1886.jpg</td>\n",
       "      <td>3</td>\n",
       "    </tr>\n",
       "  </tbody>\n",
       "</table>\n",
       "<p>2255 rows × 2 columns</p>\n",
       "</div>"
      ],
      "text/plain": [
       "                            image_id  label\n",
       "0     extra/test/0/test-img-1292.jpg      1\n",
       "1      extra/test/0/test-img-809.jpg      1\n",
       "2     extra/test/0/test-img-2149.jpg      1\n",
       "3      extra/test/0/test-img-406.jpg      1\n",
       "4       extra/test/0/test-img-94.jpg      3\n",
       "...                              ...    ...\n",
       "2250   extra/test/0/test-img-421.jpg      2\n",
       "2251    extra/test/0/test-img-25.jpg      3\n",
       "2252  extra/test/0/test-img-1553.jpg      3\n",
       "2253   extra/test/0/test-img-219.jpg      2\n",
       "2254  extra/test/0/test-img-1886.jpg      3\n",
       "\n",
       "[2255 rows x 2 columns]"
      ]
     },
     "execution_count": 9,
     "metadata": {},
     "output_type": "execute_result"
    }
   ],
   "source": [
    "new_dataset = pd.DataFrame({'image_id': images, 'label': preds })\n",
    "new_dataset"
   ]
  },
  {
   "cell_type": "code",
   "execution_count": 10,
   "metadata": {},
   "outputs": [
    {
     "data": {
      "image/png": "[encoded data removed]",
      "text/plain": [
       "<Figure size 576x504 with 1 Axes>"
      ]
     },
     "metadata": {},
     "output_type": "display_data"
    }
   ],
   "source": [
    "new_dataset.label.hist()\n",
    "plt.show()"
   ]
  },
  {
   "cell_type": "code",
   "execution_count": 11,
   "metadata": {},
   "outputs": [
    {
     "data": {
      "text/plain": [
       "12596"
      ]
     },
     "execution_count": 11,
     "metadata": {},
     "output_type": "execute_result"
    }
   ],
   "source": [
    "path = Path('data')\n",
    "images_path = Path('extra/extraimages')\n",
    "extra_images = os.listdir(path/images_path)\n",
    "images_paths = [str(images_path/img) for img in extra_images]\n",
    "len(extra_images)"
   ]
  },
  {
   "cell_type": "code",
   "execution_count": 12,
   "metadata": {},
   "outputs": [
    {
     "name": "stderr",
     "output_type": "stream",
     "text": [
      "100%|██████████| 12596/12596 [06:12<00:00, 33.82it/s]\n"
     ]
    },
    {
     "data": {
      "text/plain": [
       "6756"
      ]
     },
     "execution_count": 12,
     "metadata": {},
     "output_type": "execute_result"
    }
   ],
   "source": [
    "extra_preds, extra_images = predict(final_model, images_paths)\n",
    "len(extra_preds)"
   ]
  },
  {
   "cell_type": "code",
   "execution_count": 13,
   "metadata": {},
   "outputs": [
    {
     "data": {
      "text/html": [
       "<div>\n",
       "<style scoped>\n",
       "    .dataframe tbody tr th:only-of-type {\n",
       "        vertical-align: middle;\n",
       "    }\n",
       "\n",
       "    .dataframe tbody tr th {\n",
       "        vertical-align: top;\n",
       "    }\n",
       "\n",
       "    .dataframe thead th {\n",
       "        text-align: right;\n",
       "    }\n",
       "</style>\n",
       "<table border=\"1\" class=\"dataframe\">\n",
       "  <thead>\n",
       "    <tr style=\"text-align: right;\">\n",
       "      <th></th>\n",
       "      <th>image_id</th>\n",
       "      <th>label</th>\n",
       "    </tr>\n",
       "  </thead>\n",
       "  <tbody>\n",
       "    <tr>\n",
       "      <th>0</th>\n",
       "      <td>extra/test/0/test-img-1292.jpg</td>\n",
       "      <td>1</td>\n",
       "    </tr>\n",
       "    <tr>\n",
       "      <th>1</th>\n",
       "      <td>extra/test/0/test-img-809.jpg</td>\n",
       "      <td>1</td>\n",
       "    </tr>\n",
       "    <tr>\n",
       "      <th>2</th>\n",
       "      <td>extra/test/0/test-img-2149.jpg</td>\n",
       "      <td>1</td>\n",
       "    </tr>\n",
       "    <tr>\n",
       "      <th>3</th>\n",
       "      <td>extra/test/0/test-img-406.jpg</td>\n",
       "      <td>1</td>\n",
       "    </tr>\n",
       "    <tr>\n",
       "      <th>4</th>\n",
       "      <td>extra/test/0/test-img-94.jpg</td>\n",
       "      <td>3</td>\n",
       "    </tr>\n",
       "    <tr>\n",
       "      <th>...</th>\n",
       "      <td>...</td>\n",
       "      <td>...</td>\n",
       "    </tr>\n",
       "    <tr>\n",
       "      <th>9006</th>\n",
       "      <td>extra/extraimages/extra-image-1815.jpg</td>\n",
       "      <td>3</td>\n",
       "    </tr>\n",
       "    <tr>\n",
       "      <th>9007</th>\n",
       "      <td>extra/extraimages/extra-image-3148.jpg</td>\n",
       "      <td>3</td>\n",
       "    </tr>\n",
       "    <tr>\n",
       "      <th>9008</th>\n",
       "      <td>extra/extraimages/extra-image-2484.jpg</td>\n",
       "      <td>1</td>\n",
       "    </tr>\n",
       "    <tr>\n",
       "      <th>9009</th>\n",
       "      <td>extra/extraimages/extra-image-9895.jpg</td>\n",
       "      <td>3</td>\n",
       "    </tr>\n",
       "    <tr>\n",
       "      <th>9010</th>\n",
       "      <td>extra/extraimages/extra-image-6146.jpg</td>\n",
       "      <td>3</td>\n",
       "    </tr>\n",
       "  </tbody>\n",
       "</table>\n",
       "<p>9011 rows × 2 columns</p>\n",
       "</div>"
      ],
      "text/plain": [
       "                                    image_id  label\n",
       "0             extra/test/0/test-img-1292.jpg      1\n",
       "1              extra/test/0/test-img-809.jpg      1\n",
       "2             extra/test/0/test-img-2149.jpg      1\n",
       "3              extra/test/0/test-img-406.jpg      1\n",
       "4               extra/test/0/test-img-94.jpg      3\n",
       "...                                      ...    ...\n",
       "9006  extra/extraimages/extra-image-1815.jpg      3\n",
       "9007  extra/extraimages/extra-image-3148.jpg      3\n",
       "9008  extra/extraimages/extra-image-2484.jpg      1\n",
       "9009  extra/extraimages/extra-image-9895.jpg      3\n",
       "9010  extra/extraimages/extra-image-6146.jpg      3\n",
       "\n",
       "[9011 rows x 2 columns]"
      ]
     },
     "execution_count": 13,
     "metadata": {},
     "output_type": "execute_result"
    }
   ],
   "source": [
    "new_dataset = pd.DataFrame({'image_id': images + extra_images, 'label': preds + extra_preds})\n",
    "new_dataset"
   ]
  },
  {
   "cell_type": "code",
   "execution_count": 20,
   "metadata": {},
   "outputs": [
    {
     "data": {
      "image/png": "[encoded data removed]",
      "text/plain": [
       "<Figure size 576x504 with 1 Axes>"
      ]
     },
     "metadata": {},
     "output_type": "display_data"
    }
   ],
   "source": [
    "new_dataset.label.hist()\n",
    "plt.show()"
   ]
  },
  {
   "cell_type": "code",
   "execution_count": 21,
   "metadata": {},
   "outputs": [
    {
     "data": {
      "text/html": [
       "<div>\n",
       "<style scoped>\n",
       "    .dataframe tbody tr th:only-of-type {\n",
       "        vertical-align: middle;\n",
       "    }\n",
       "\n",
       "    .dataframe tbody tr th {\n",
       "        vertical-align: top;\n",
       "    }\n",
       "\n",
       "    .dataframe thead th {\n",
       "        text-align: right;\n",
       "    }\n",
       "</style>\n",
       "<table border=\"1\" class=\"dataframe\">\n",
       "  <thead>\n",
       "    <tr style=\"text-align: right;\">\n",
       "      <th></th>\n",
       "      <th>image_id</th>\n",
       "      <th>label</th>\n",
       "    </tr>\n",
       "  </thead>\n",
       "  <tbody>\n",
       "    <tr>\n",
       "      <th>0</th>\n",
       "      <td>train_images/1000015157.jpg</td>\n",
       "      <td>0</td>\n",
       "    </tr>\n",
       "    <tr>\n",
       "      <th>1</th>\n",
       "      <td>train_images/1000201771.jpg</td>\n",
       "      <td>3</td>\n",
       "    </tr>\n",
       "    <tr>\n",
       "      <th>2</th>\n",
       "      <td>train_images/100042118.jpg</td>\n",
       "      <td>1</td>\n",
       "    </tr>\n",
       "    <tr>\n",
       "      <th>3</th>\n",
       "      <td>train_images/1000723321.jpg</td>\n",
       "      <td>1</td>\n",
       "    </tr>\n",
       "    <tr>\n",
       "      <th>4</th>\n",
       "      <td>train_images/1000812911.jpg</td>\n",
       "      <td>3</td>\n",
       "    </tr>\n",
       "    <tr>\n",
       "      <th>...</th>\n",
       "      <td>...</td>\n",
       "      <td>...</td>\n",
       "    </tr>\n",
       "    <tr>\n",
       "      <th>27048</th>\n",
       "      <td>extra/train/healthy/train-healthy-22.jpg</td>\n",
       "      <td>4</td>\n",
       "    </tr>\n",
       "    <tr>\n",
       "      <th>27049</th>\n",
       "      <td>extra/train/healthy/train-healthy-228.jpg</td>\n",
       "      <td>4</td>\n",
       "    </tr>\n",
       "    <tr>\n",
       "      <th>27050</th>\n",
       "      <td>extra/train/healthy/train-healthy-205.jpg</td>\n",
       "      <td>4</td>\n",
       "    </tr>\n",
       "    <tr>\n",
       "      <th>27051</th>\n",
       "      <td>extra/train/healthy/train-healthy-94.jpg</td>\n",
       "      <td>4</td>\n",
       "    </tr>\n",
       "    <tr>\n",
       "      <th>27052</th>\n",
       "      <td>extra/train/healthy/train-healthy-118.jpg</td>\n",
       "      <td>4</td>\n",
       "    </tr>\n",
       "  </tbody>\n",
       "</table>\n",
       "<p>27053 rows × 2 columns</p>\n",
       "</div>"
      ],
      "text/plain": [
       "                                        image_id  label\n",
       "0                    train_images/1000015157.jpg      0\n",
       "1                    train_images/1000201771.jpg      3\n",
       "2                     train_images/100042118.jpg      1\n",
       "3                    train_images/1000723321.jpg      1\n",
       "4                    train_images/1000812911.jpg      3\n",
       "...                                          ...    ...\n",
       "27048   extra/train/healthy/train-healthy-22.jpg      4\n",
       "27049  extra/train/healthy/train-healthy-228.jpg      4\n",
       "27050  extra/train/healthy/train-healthy-205.jpg      4\n",
       "27051   extra/train/healthy/train-healthy-94.jpg      4\n",
       "27052  extra/train/healthy/train-healthy-118.jpg      4\n",
       "\n",
       "[27053 rows x 2 columns]"
      ]
     },
     "execution_count": 21,
     "metadata": {},
     "output_type": "execute_result"
    }
   ],
   "source": [
    "old_dataset = pd.read_csv('data/train_extra.csv')\n",
    "old_dataset"
   ]
  },
  {
   "cell_type": "code",
   "execution_count": 22,
   "metadata": {},
   "outputs": [
    {
     "data": {
      "text/html": [
       "<div>\n",
       "<style scoped>\n",
       "    .dataframe tbody tr th:only-of-type {\n",
       "        vertical-align: middle;\n",
       "    }\n",
       "\n",
       "    .dataframe tbody tr th {\n",
       "        vertical-align: top;\n",
       "    }\n",
       "\n",
       "    .dataframe thead th {\n",
       "        text-align: right;\n",
       "    }\n",
       "</style>\n",
       "<table border=\"1\" class=\"dataframe\">\n",
       "  <thead>\n",
       "    <tr style=\"text-align: right;\">\n",
       "      <th></th>\n",
       "      <th>image_id</th>\n",
       "      <th>label</th>\n",
       "    </tr>\n",
       "  </thead>\n",
       "  <tbody>\n",
       "    <tr>\n",
       "      <th>0</th>\n",
       "      <td>extra/test/0/test-img-1292.jpg</td>\n",
       "      <td>1</td>\n",
       "    </tr>\n",
       "    <tr>\n",
       "      <th>1</th>\n",
       "      <td>extra/test/0/test-img-809.jpg</td>\n",
       "      <td>1</td>\n",
       "    </tr>\n",
       "    <tr>\n",
       "      <th>2</th>\n",
       "      <td>extra/test/0/test-img-2149.jpg</td>\n",
       "      <td>1</td>\n",
       "    </tr>\n",
       "    <tr>\n",
       "      <th>3</th>\n",
       "      <td>extra/test/0/test-img-406.jpg</td>\n",
       "      <td>1</td>\n",
       "    </tr>\n",
       "    <tr>\n",
       "      <th>4</th>\n",
       "      <td>extra/test/0/test-img-94.jpg</td>\n",
       "      <td>3</td>\n",
       "    </tr>\n",
       "    <tr>\n",
       "      <th>...</th>\n",
       "      <td>...</td>\n",
       "      <td>...</td>\n",
       "    </tr>\n",
       "    <tr>\n",
       "      <th>27048</th>\n",
       "      <td>extra/train/healthy/train-healthy-22.jpg</td>\n",
       "      <td>4</td>\n",
       "    </tr>\n",
       "    <tr>\n",
       "      <th>27049</th>\n",
       "      <td>extra/train/healthy/train-healthy-228.jpg</td>\n",
       "      <td>4</td>\n",
       "    </tr>\n",
       "    <tr>\n",
       "      <th>27050</th>\n",
       "      <td>extra/train/healthy/train-healthy-205.jpg</td>\n",
       "      <td>4</td>\n",
       "    </tr>\n",
       "    <tr>\n",
       "      <th>27051</th>\n",
       "      <td>extra/train/healthy/train-healthy-94.jpg</td>\n",
       "      <td>4</td>\n",
       "    </tr>\n",
       "    <tr>\n",
       "      <th>27052</th>\n",
       "      <td>extra/train/healthy/train-healthy-118.jpg</td>\n",
       "      <td>4</td>\n",
       "    </tr>\n",
       "  </tbody>\n",
       "</table>\n",
       "<p>36064 rows × 2 columns</p>\n",
       "</div>"
      ],
      "text/plain": [
       "                                        image_id  label\n",
       "0                 extra/test/0/test-img-1292.jpg      1\n",
       "1                  extra/test/0/test-img-809.jpg      1\n",
       "2                 extra/test/0/test-img-2149.jpg      1\n",
       "3                  extra/test/0/test-img-406.jpg      1\n",
       "4                   extra/test/0/test-img-94.jpg      3\n",
       "...                                          ...    ...\n",
       "27048   extra/train/healthy/train-healthy-22.jpg      4\n",
       "27049  extra/train/healthy/train-healthy-228.jpg      4\n",
       "27050  extra/train/healthy/train-healthy-205.jpg      4\n",
       "27051   extra/train/healthy/train-healthy-94.jpg      4\n",
       "27052  extra/train/healthy/train-healthy-118.jpg      4\n",
       "\n",
       "[36064 rows x 2 columns]"
      ]
     },
     "execution_count": 22,
     "metadata": {},
     "output_type": "execute_result"
    }
   ],
   "source": [
    "extra_dataset = pd.concat([new_dataset, old_dataset])\n",
    "extra_dataset"
   ]
  },
  {
   "cell_type": "code",
   "execution_count": 23,
   "metadata": {},
   "outputs": [
    {
     "data": {
      "image/png": "[encoded data removed]",
      "text/plain": [
       "<Figure size 576x504 with 1 Axes>"
      ]
     },
     "metadata": {},
     "output_type": "display_data"
    }
   ],
   "source": [
    "extra_dataset.label.hist()\n",
    "plt.show()"
   ]
  },
  {
   "cell_type": "code",
   "execution_count": 24,
   "metadata": {},
   "outputs": [],
   "source": [
    "extra_dataset.to_csv(path/'train_pseudo.csv', index=False)"
   ]
  },
  {
   "cell_type": "code",
   "execution_count": 25,
   "metadata": {
    "code_folding": []
   },
   "outputs": [],
   "source": [
    "from sklearn.model_selection import train_test_split\n",
    "\n",
    "def data_split(df, test_size=0.2, random_state=42):\n",
    "    train, val = train_test_split(\n",
    "        df,\n",
    "        test_size=test_size,\n",
    "        shuffle=True,\n",
    "        stratify=df['label'],\n",
    "        random_state=random_state\n",
    "    )\n",
    "    return train, val    "
   ]
  },
  {
   "cell_type": "code",
   "execution_count": 26,
   "metadata": {},
   "outputs": [
    {
     "data": {
      "text/plain": [
       "(28851, 7213)"
      ]
     },
     "execution_count": 26,
     "metadata": {},
     "output_type": "execute_result"
    }
   ],
   "source": [
    "train, val = data_split(extra_dataset)\n",
    "\n",
    "len(train), len(val)"
   ]
  },
  {
   "cell_type": "code",
   "execution_count": 27,
   "metadata": {},
   "outputs": [],
   "source": [
    "train.to_csv(path/'data_pseudo_train.csv', index=False)\n",
    "val.to_csv(path/'data_pseudo_val.csv', index=False)"
   ]
  }
 ],
 "metadata": {
  "kernelspec": {
   "display_name": "Python 3",
   "language": "python",
   "name": "python3"
  },
  "language_info": {
   "codemirror_mode": {
    "name": "ipython",
    "version": 3
   },
   "file_extension": ".py",
   "mimetype": "text/x-python",
   "name": "python",
   "nbconvert_exporter": "python",
   "pygments_lexer": "ipython3",
   "version": "3.8.3"
  },
  "toc": {
   "base_numbering": 1,
   "nav_menu": {},
   "number_sections": true,
   "sideBar": true,
   "skip_h1_title": false,
   "title_cell": "Table of Contents",
   "title_sidebar": "Contents",
   "toc_cell": false,
   "toc_position": {},
   "toc_section_display": true,
   "toc_window_display": false
  }
 },
 "nbformat": 4,
 "nbformat_minor": 4
}
