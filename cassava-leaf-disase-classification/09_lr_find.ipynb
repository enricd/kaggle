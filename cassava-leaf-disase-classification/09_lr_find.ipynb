{
 "cells": [
  {
   "cell_type": "code",
   "execution_count": 1,
   "metadata": {
    "ExecuteTime": {
     "end_time": "2020-12-30T15:40:34.008409Z",
     "start_time": "2020-12-30T15:40:32.091947Z"
    }
   },
   "outputs": [],
   "source": [
    "import pytorch_lightning as pl\n",
    "from src import Model, DataModule"
   ]
  },
  {
   "cell_type": "code",
   "execution_count": 2,
   "metadata": {
    "ExecuteTime": {
     "end_time": "2020-12-30T15:40:38.481915Z",
     "start_time": "2020-12-30T15:40:38.461896Z"
    },
    "code_folding": [
     1
    ]
   },
   "outputs": [],
   "source": [
    "size = 256\n",
    "config = {\n",
    "    # optimization\n",
    "    'lr': 3e-4,\n",
    "    'optimizer': 'Adam',\n",
    "    'batch_size': 128,\n",
    "    # data\n",
    "    'extra_data': 1,\n",
    "    'subset': 0.1,\n",
    "    'num_workers': 20,\n",
    "    # model\n",
    "    'backbone': 'seresnext50_32x4d',\n",
    "    'pretrained': True,\n",
    "    'unfreeze': 0,\n",
    "    # data augmentation\n",
    "    'size': size,\n",
    "    'train_trans': {\n",
    "        'RandomCrop': {\n",
    "            'height': size, \n",
    "            'width': size\n",
    "        },\n",
    "        'HorizontalFlip': {},\n",
    "        'VerticalFlip': {},\n",
    "        'Normalize': {}\n",
    "    },\n",
    "    'val_trans': {\n",
    "        'CenterCrop': {\n",
    "            'height': size, \n",
    "            'width': size\n",
    "        },\n",
    "        'Normalize': {}\n",
    "    },\n",
    "    # training params\n",
    "    'precision': 16,\n",
    "    'max_epochs': 50,\n",
    "    'val_batches': 5,\n",
    "    'es_start_from': 0,\n",
    "    'patience': 3\n",
    "}"
   ]
  },
  {
   "cell_type": "code",
   "execution_count": 3,
   "metadata": {
    "ExecuteTime": {
     "end_time": "2020-12-30T15:40:47.578674Z",
     "start_time": "2020-12-30T15:40:47.207678Z"
    }
   },
   "outputs": [],
   "source": [
    "dm = DataModule(\n",
    "    file = 'data_extra' if config['extra_data'] else 'data_old', \n",
    "    **config\n",
    ")\n",
    "\n",
    "model = Model(config)"
   ]
  },
  {
   "cell_type": "code",
   "execution_count": 4,
   "metadata": {
    "ExecuteTime": {
     "end_time": "2020-12-30T15:53:22.180162Z",
     "start_time": "2020-12-30T15:40:56.197130Z"
    }
   },
   "outputs": [
    {
     "name": "stderr",
     "output_type": "stream",
     "text": [
      "GPU available: True, used: True\n",
      "TPU available: None, using: 0 TPU cores\n",
      "LOCAL_RANK: 0 - CUDA_VISIBLE_DEVICES: [0]\n",
      "Using native 16bit precision.\n"
     ]
    },
    {
     "name": "stdout",
     "output_type": "stream",
     "text": [
      "Training samples:  21642\n",
      "Validation samples:  5411\n",
      "Training only on 2165 samples\n"
     ]
    },
    {
     "name": "stderr",
     "output_type": "stream",
     "text": [
      "Batch size 2 succeeded, trying batch size 4\n",
      "Batch size 4 succeeded, trying batch size 8\n",
      "Batch size 8 succeeded, trying batch size 16\n",
      "Batch size 16 succeeded, trying batch size 32\n",
      "Batch size 32 succeeded, trying batch size 64\n",
      "Batch size 64 succeeded, trying batch size 128\n",
      "Batch size 128 succeeded, trying batch size 256\n",
      "Batch size 256 succeeded, trying batch size 512\n",
      "Batch size 512 succeeded, trying batch size 1024\n",
      "Batch size 1024 succeeded, trying batch size 2048\n",
      "Batch size 2048 failed, trying batch size 1536\n",
      "Batch size 1536 failed, trying batch size 1280\n",
      "Batch size 1280 failed, trying batch size 1152\n",
      "Batch size 1152 failed, trying batch size 1088\n",
      "Batch size 1088 failed, trying batch size 1056\n",
      "Batch size 1056 failed, trying batch size 1040\n",
      "Batch size 1040 failed, trying batch size 1032\n",
      "Batch size 1032 failed, trying batch size 1028\n",
      "Batch size 1028 failed, trying batch size 1026\n",
      "Batch size 1026 failed, trying batch size 1025\n",
      "Batch size 1025 failed, trying batch size 1024\n",
      "Finished batch size finder, will continue with full run using batch size 1024\n"
     ]
    }
   ],
   "source": [
    "trainer = pl.Trainer(\n",
    "    gpus=1,\n",
    "    precision=config['precision'],\n",
    "    limit_val_batches=config['val_batches'],\n",
    "    auto_scale_batch_size='binsearch'\n",
    ")\n",
    "\n",
    "trainer.tune(model, dm)"
   ]
  },
  {
   "cell_type": "code",
   "execution_count": 25,
   "metadata": {
    "ExecuteTime": {
     "end_time": "2020-12-30T15:57:12.073973Z",
     "start_time": "2020-12-30T15:57:12.059974Z"
    }
   },
   "outputs": [
    {
     "data": {
      "text/plain": [
       "\"backbone\":      seresnext50_32x4d\n",
       "\"batch_size\":    1024\n",
       "\"es_start_from\": 0\n",
       "\"extra_data\":    1\n",
       "\"lr\":            0.003311311214825908\n",
       "\"max_epochs\":    50\n",
       "\"num_workers\":   20\n",
       "\"optimizer\":     Adam\n",
       "\"patience\":      3\n",
       "\"precision\":     16\n",
       "\"pretrained\":    True\n",
       "\"size\":          256\n",
       "\"subset\":        0.1\n",
       "\"train_trans\":   {'RandomCrop': {'height': 256, 'width': 256}, 'HorizontalFlip': {}, 'VerticalFlip': {}, 'Normalize': {}}\n",
       "\"unfreeze\":      0\n",
       "\"val_batches\":   5\n",
       "\"val_trans\":     {'CenterCrop': {'height': 256, 'width': 256}, 'Normalize': {}}"
      ]
     },
     "execution_count": 25,
     "metadata": {},
     "output_type": "execute_result"
    }
   ],
   "source": [
    "model.hparams.batch_size = 1024\n",
    "model.hparams"
   ]
  },
  {
   "cell_type": "code",
   "execution_count": 32,
   "metadata": {
    "ExecuteTime": {
     "end_time": "2020-12-30T15:58:19.544830Z",
     "start_time": "2020-12-30T15:58:19.525828Z"
    }
   },
   "outputs": [
    {
     "name": "stderr",
     "output_type": "stream",
     "text": [
      "GPU available: True, used: True\n",
      "TPU available: None, using: 0 TPU cores\n",
      "LOCAL_RANK: 0 - CUDA_VISIBLE_DEVICES: [0]\n",
      "Using native 16bit precision.\n"
     ]
    }
   ],
   "source": [
    "trainer = pl.Trainer(\n",
    "    gpus=1,\n",
    "    precision=config['precision'],\n",
    "    limit_val_batches=config['val_batches'],\n",
    "    auto_lr_find=True\n",
    ")"
   ]
  },
  {
   "cell_type": "code",
   "execution_count": 33,
   "metadata": {
    "ExecuteTime": {
     "end_time": "2020-12-30T15:58:31.724425Z",
     "start_time": "2020-12-30T15:58:19.660022Z"
    }
   },
   "outputs": [
    {
     "name": "stderr",
     "output_type": "stream",
     "text": [
      "\n",
      "  | Name     | Type           | Params\n",
      "--------------------------------------------\n",
      "0 | backbone | FeatureListNet | 25.5 M\n",
      "1 | head     | Sequential     | 10.2 K\n",
      "--------------------------------------------\n",
      "25.5 M    Trainable params\n",
      "0         Non-trainable params\n",
      "25.5 M    Total params\n"
     ]
    },
    {
     "data": {
      "application/vnd.jupyter.widget-view+json": {
       "model_id": "5fbc9d8d33904317b1cf706d8218e66d",
       "version_major": 2,
       "version_minor": 0
      },
      "text/plain": [
       "HBox(children=(FloatProgress(value=0.0, description='Finding best initial lr', style=ProgressStyle(description…"
      ]
     },
     "metadata": {},
     "output_type": "display_data"
    }
   ],
   "source": [
    "lr_finder = trainer.tuner.lr_find(model, dm, min_lr=1e-06, max_lr=1e-02)"
   ]
  },
  {
   "cell_type": "code",
   "execution_count": 34,
   "metadata": {
    "ExecuteTime": {
     "end_time": "2020-12-30T15:58:32.019916Z",
     "start_time": "2020-12-30T15:58:31.725425Z"
    }
   },
   "outputs": [
    {
     "name": "stderr",
     "output_type": "stream",
     "text": [
      "C:\\Users\\sensio\\miniconda3\\lib\\site-packages\\ipykernel_launcher.py:2: UserWarning: Matplotlib is currently using module://ipykernel.pylab.backend_inline, which is a non-GUI backend, so cannot show the figure.\n",
      "  \n"
     ]
    },
    {
     "data": {
      "image/png": "[encoded data removed]",
      "text/plain": [
       "<Figure size 576x504 with 1 Axes>"
      ]
     },
     "metadata": {},
     "output_type": "display_data"
    }
   ],
   "source": [
    "fig = lr_finder.plot(suggest=True)\n",
    "fig.show()"
   ]
  },
  {
   "cell_type": "code",
   "execution_count": 36,
   "metadata": {
    "ExecuteTime": {
     "end_time": "2020-12-30T15:58:54.382134Z",
     "start_time": "2020-12-30T15:58:54.376132Z"
    }
   },
   "outputs": [
    {
     "data": {
      "text/plain": [
       "0.0019054607179632462"
      ]
     },
     "execution_count": 36,
     "metadata": {},
     "output_type": "execute_result"
    }
   ],
   "source": [
    "new_lr = lr_finder.suggestion()\n",
    "model.hparams.lr = new_lr\n",
    "model.hparams.lr"
   ]
  },
  {
   "cell_type": "code",
   "execution_count": null,
   "metadata": {},
   "outputs": [],
   "source": [
    "#trainer.fit(model, dm)"
   ]
  }
 ],
 "metadata": {
  "kernelspec": {
   "display_name": "Python 3",
   "language": "python",
   "name": "python3"
  },
  "language_info": {
   "codemirror_mode": {
    "name": "ipython",
    "version": 3
   },
   "file_extension": ".py",
   "mimetype": "text/x-python",
   "name": "python",
   "nbconvert_exporter": "python",
   "pygments_lexer": "ipython3",
   "version": "3.7.6"
  },
  "toc": {
   "base_numbering": 1,
   "nav_menu": {},
   "number_sections": true,
   "sideBar": true,
   "skip_h1_title": false,
   "title_cell": "Table of Contents",
   "title_sidebar": "Contents",
   "toc_cell": false,
   "toc_position": {},
   "toc_section_display": true,
   "toc_window_display": false
  }
 },
 "nbformat": 4,
 "nbformat_minor": 4
}
