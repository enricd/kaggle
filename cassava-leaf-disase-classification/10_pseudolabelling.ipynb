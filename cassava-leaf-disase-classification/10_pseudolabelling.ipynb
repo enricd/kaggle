{
 "cells": [
  {
   "cell_type": "code",
   "execution_count": 1,
   "metadata": {
    "ExecuteTime": {
     "end_time": "2021-01-06T17:10:05.105900Z",
     "start_time": "2021-01-06T17:10:02.359901Z"
    }
   },
   "outputs": [],
   "source": [
    "import glob\n",
    "import pytorch_lightning as pl\n",
    "import torch \n",
    "from pytorch_lightning.metrics.functional.classification import accuracy\n",
    "from tqdm import tqdm\n",
    "from src import DataModule, Model\n",
    "import skimage.io as io"
   ]
  },
  {
   "cell_type": "code",
   "execution_count": 3,
   "metadata": {
    "ExecuteTime": {
     "end_time": "2021-01-06T17:12:15.874584Z",
     "start_time": "2021-01-06T17:12:15.869933Z"
    }
   },
   "outputs": [
    {
     "data": {
      "text/plain": [
       "['seresnext50_32x4d-256-fold_1-val_acc=0.87525.ckpt',\n",
       " 'seresnext50_32x4d-256-fold_2-val_acc=0.87415.ckpt',\n",
       " 'seresnext50_32x4d-256-fold_3-val_acc=0.87544.ckpt',\n",
       " 'seresnext50_32x4d-256-fold_4-val_acc=0.87985.ckpt',\n",
       " 'seresnext50_32x4d-256-fold_5-val_acc=0.88688.ckpt']"
      ]
     },
     "execution_count": 3,
     "metadata": {},
     "output_type": "execute_result"
    }
   ],
   "source": [
    "models = glob.glob('seresnext*-fold_*.ckpt')\n",
    "models"
   ]
  },
  {
   "cell_type": "code",
   "execution_count": 13,
   "metadata": {
    "ExecuteTime": {
     "end_time": "2021-01-06T17:24:31.640483Z",
     "start_time": "2021-01-06T17:24:31.620482Z"
    }
   },
   "outputs": [
    {
     "data": {
      "text/plain": [
       "3774"
      ]
     },
     "execution_count": 13,
     "metadata": {},
     "output_type": "execute_result"
    }
   ],
   "source": [
    "path = './data'\n",
    "path_images = '/extra/test/0'\n",
    "images = os.listdir(f'{path}/{path_images}')\n",
    "images_paths = [f'{path_images}/{img}' for img in images]\n",
    "len(images_paths)"
   ]
  },
  {
   "cell_type": "code",
   "execution_count": 14,
   "metadata": {
    "ExecuteTime": {
     "end_time": "2021-01-06T17:24:35.263267Z",
     "start_time": "2021-01-06T17:24:35.223268Z"
    }
   },
   "outputs": [
    {
     "data": {
      "text/plain": [
       "16369"
      ]
     },
     "execution_count": 14,
     "metadata": {},
     "output_type": "execute_result"
    }
   ],
   "source": [
    "path_images = '/extra/extraimages'\n",
    "images = os.listdir(f'{path}/{path_images}')\n",
    "images_paths += [f'{path_images}/{img}' for img in images]\n",
    "len(images_paths)"
   ]
  },
  {
   "cell_type": "code",
   "execution_count": 15,
   "metadata": {
    "ExecuteTime": {
     "end_time": "2021-01-06T17:24:38.449678Z",
     "start_time": "2021-01-06T17:24:38.444677Z"
    },
    "code_folding": []
   },
   "outputs": [],
   "source": [
    "import cv2\n",
    "import skimage.io as io\n",
    "\n",
    "class Dataset(torch.utils.data.Dataset):\n",
    "    def __init__(self, path, imgs, trans=None):\n",
    "        self.path = path\n",
    "        self.imgs = imgs\n",
    "        self.trans = trans\n",
    "\n",
    "    def __len__(self):\n",
    "        return len(self.imgs)\n",
    "\n",
    "    def __getitem__(self, ix):\n",
    "        img = cv2.imread(f'{self.path}/{self.imgs[ix]}')\n",
    "        img = cv2.cvtColor(img, cv2.COLOR_BGR2RGB)\n",
    "        if self.trans:\n",
    "            img = self.trans(image=img)['image']\n",
    "        img = torch.tensor(img, dtype=torch.float).permute(2,0,1)\n",
    "        return img"
   ]
  },
  {
   "cell_type": "code",
   "execution_count": 16,
   "metadata": {
    "ExecuteTime": {
     "end_time": "2021-01-06T17:24:38.790752Z",
     "start_time": "2021-01-06T17:24:38.772751Z"
    }
   },
   "outputs": [],
   "source": [
    "import albumentations as A\n",
    "trans = A.Compose([\n",
    "    #A.PadIfNeeded(256,256),\n",
    "    A.RandomCrop(256,256),\n",
    "    A.HorizontalFlip(),\n",
    "    A.VerticalFlip(),\n",
    "    A.Normalize()\n",
    "])\n",
    "dataset = Dataset(path, images_paths, trans)\n",
    "dataloader = torch.utils.data.DataLoader(dataset, batch_size=128, shuffle=False, num_workers=0, pin_memory=True)"
   ]
  },
  {
   "cell_type": "code",
   "execution_count": 17,
   "metadata": {
    "ExecuteTime": {
     "end_time": "2021-01-06T17:24:39.282905Z",
     "start_time": "2021-01-06T17:24:39.276905Z"
    },
    "code_folding": [
     2
    ]
   },
   "outputs": [],
   "source": [
    " def predict(models, dl, tta = 1):  \n",
    "    final_preds = []\n",
    "    for ix, model in enumerate(models):\n",
    "        print(f\"model {ix+1}\")\n",
    "        model = Model.load_from_checkpoint(checkpoint_path=model)\n",
    "        model.eval()\n",
    "        model.cuda()\n",
    "        tta_preds = []\n",
    "        for i in range(tta):\n",
    "            print(f\"tta round {i+1}\")\n",
    "            preds = torch.tensor([]).cuda()\n",
    "            with torch.no_grad():\n",
    "                t = tqdm(dl)\n",
    "                for b, x in enumerate(t):\n",
    "                    x = x.cuda()\n",
    "                    y_hat = model(x)\n",
    "                    preds = torch.cat([preds, y_hat])\n",
    "            tta_preds.append(preds)\n",
    "        tta_preds = torch.stack(tta_preds).mean(axis=0)\n",
    "        final_preds.append(tta_preds)\n",
    "    final_preds = torch.stack(final_preds).mean(axis=0)\n",
    "    probas = torch.softmax(final_preds, axis=1)\n",
    "    return probas.max(1)"
   ]
  },
  {
   "cell_type": "code",
   "execution_count": 18,
   "metadata": {
    "ExecuteTime": {
     "end_time": "2021-01-06T17:35:25.852619Z",
     "start_time": "2021-01-06T17:24:39.871949Z"
    },
    "scrolled": true
   },
   "outputs": [
    {
     "name": "stdout",
     "output_type": "stream",
     "text": [
      "model 1\n"
     ]
    },
    {
     "name": "stderr",
     "output_type": "stream",
     "text": [
      "\r",
      "  0%|                                                                                | 0/128 [00:00<?, ?it/s]"
     ]
    },
    {
     "name": "stdout",
     "output_type": "stream",
     "text": [
      "tta round 1\n"
     ]
    },
    {
     "name": "stderr",
     "output_type": "stream",
     "text": [
      "100%|██████████████████████████████████████████████████████████████████████| 128/128 [03:17<00:00,  1.54s/it]\n"
     ]
    },
    {
     "name": "stdout",
     "output_type": "stream",
     "text": [
      "model 2\n"
     ]
    },
    {
     "name": "stderr",
     "output_type": "stream",
     "text": [
      "\r",
      "  0%|                                                                                | 0/128 [00:00<?, ?it/s]"
     ]
    },
    {
     "name": "stdout",
     "output_type": "stream",
     "text": [
      "tta round 1\n"
     ]
    },
    {
     "name": "stderr",
     "output_type": "stream",
     "text": [
      "100%|██████████████████████████████████████████████████████████████████████| 128/128 [01:51<00:00,  1.15it/s]\n"
     ]
    },
    {
     "name": "stdout",
     "output_type": "stream",
     "text": [
      "model 3\n"
     ]
    },
    {
     "name": "stderr",
     "output_type": "stream",
     "text": [
      "\r",
      "  0%|                                                                                | 0/128 [00:00<?, ?it/s]"
     ]
    },
    {
     "name": "stdout",
     "output_type": "stream",
     "text": [
      "tta round 1\n"
     ]
    },
    {
     "name": "stderr",
     "output_type": "stream",
     "text": [
      "100%|██████████████████████████████████████████████████████████████████████| 128/128 [01:52<00:00,  1.14it/s]\n"
     ]
    },
    {
     "name": "stdout",
     "output_type": "stream",
     "text": [
      "model 4\n"
     ]
    },
    {
     "name": "stderr",
     "output_type": "stream",
     "text": [
      "\r",
      "  0%|                                                                                | 0/128 [00:00<?, ?it/s]"
     ]
    },
    {
     "name": "stdout",
     "output_type": "stream",
     "text": [
      "tta round 1\n"
     ]
    },
    {
     "name": "stderr",
     "output_type": "stream",
     "text": [
      "100%|██████████████████████████████████████████████████████████████████████| 128/128 [01:51<00:00,  1.15it/s]\n"
     ]
    },
    {
     "name": "stdout",
     "output_type": "stream",
     "text": [
      "model 5\n"
     ]
    },
    {
     "name": "stderr",
     "output_type": "stream",
     "text": [
      "\r",
      "  0%|                                                                                | 0/128 [00:00<?, ?it/s]"
     ]
    },
    {
     "name": "stdout",
     "output_type": "stream",
     "text": [
      "tta round 1\n"
     ]
    },
    {
     "name": "stderr",
     "output_type": "stream",
     "text": [
      "100%|██████████████████████████████████████████████████████████████████████| 128/128 [01:50<00:00,  1.16it/s]\n"
     ]
    }
   ],
   "source": [
    "probas, preds = predict(models, dataloader, tta=5)"
   ]
  },
  {
   "cell_type": "code",
   "execution_count": 24,
   "metadata": {
    "ExecuteTime": {
     "end_time": "2021-01-06T17:37:00.842351Z",
     "start_time": "2021-01-06T17:37:00.796353Z"
    }
   },
   "outputs": [
    {
     "data": {
      "text/html": [
       "<div>\n",
       "<style scoped>\n",
       "    .dataframe tbody tr th:only-of-type {\n",
       "        vertical-align: middle;\n",
       "    }\n",
       "\n",
       "    .dataframe tbody tr th {\n",
       "        vertical-align: top;\n",
       "    }\n",
       "\n",
       "    .dataframe thead th {\n",
       "        text-align: right;\n",
       "    }\n",
       "</style>\n",
       "<table border=\"1\" class=\"dataframe\">\n",
       "  <thead>\n",
       "    <tr style=\"text-align: right;\">\n",
       "      <th></th>\n",
       "      <th>image_id</th>\n",
       "      <th>label</th>\n",
       "      <th>probas</th>\n",
       "    </tr>\n",
       "  </thead>\n",
       "  <tbody>\n",
       "    <tr>\n",
       "      <th>0</th>\n",
       "      <td>/extra/test/0/test-img-0.jpg</td>\n",
       "      <td>1</td>\n",
       "      <td>0.948925</td>\n",
       "    </tr>\n",
       "    <tr>\n",
       "      <th>1</th>\n",
       "      <td>/extra/test/0/test-img-1.jpg</td>\n",
       "      <td>1</td>\n",
       "      <td>0.827620</td>\n",
       "    </tr>\n",
       "    <tr>\n",
       "      <th>2</th>\n",
       "      <td>/extra/test/0/test-img-10.jpg</td>\n",
       "      <td>3</td>\n",
       "      <td>0.957109</td>\n",
       "    </tr>\n",
       "    <tr>\n",
       "      <th>3</th>\n",
       "      <td>/extra/test/0/test-img-100.jpg</td>\n",
       "      <td>2</td>\n",
       "      <td>0.930944</td>\n",
       "    </tr>\n",
       "    <tr>\n",
       "      <th>4</th>\n",
       "      <td>/extra/test/0/test-img-1000.jpg</td>\n",
       "      <td>1</td>\n",
       "      <td>0.985332</td>\n",
       "    </tr>\n",
       "    <tr>\n",
       "      <th>...</th>\n",
       "      <td>...</td>\n",
       "      <td>...</td>\n",
       "      <td>...</td>\n",
       "    </tr>\n",
       "    <tr>\n",
       "      <th>16364</th>\n",
       "      <td>/extra/extraimages/extra-image-9992.jpg</td>\n",
       "      <td>3</td>\n",
       "      <td>0.463383</td>\n",
       "    </tr>\n",
       "    <tr>\n",
       "      <th>16365</th>\n",
       "      <td>/extra/extraimages/extra-image-9993.jpg</td>\n",
       "      <td>2</td>\n",
       "      <td>0.895335</td>\n",
       "    </tr>\n",
       "    <tr>\n",
       "      <th>16366</th>\n",
       "      <td>/extra/extraimages/extra-image-9995.jpg</td>\n",
       "      <td>3</td>\n",
       "      <td>0.988225</td>\n",
       "    </tr>\n",
       "    <tr>\n",
       "      <th>16367</th>\n",
       "      <td>/extra/extraimages/extra-image-9996.jpg</td>\n",
       "      <td>3</td>\n",
       "      <td>0.992323</td>\n",
       "    </tr>\n",
       "    <tr>\n",
       "      <th>16368</th>\n",
       "      <td>/extra/extraimages/extra-image-9997.jpg</td>\n",
       "      <td>1</td>\n",
       "      <td>0.893927</td>\n",
       "    </tr>\n",
       "  </tbody>\n",
       "</table>\n",
       "<p>16369 rows × 3 columns</p>\n",
       "</div>"
      ],
      "text/plain": [
       "                                      image_id  label    probas\n",
       "0                 /extra/test/0/test-img-0.jpg      1  0.948925\n",
       "1                 /extra/test/0/test-img-1.jpg      1  0.827620\n",
       "2                /extra/test/0/test-img-10.jpg      3  0.957109\n",
       "3               /extra/test/0/test-img-100.jpg      2  0.930944\n",
       "4              /extra/test/0/test-img-1000.jpg      1  0.985332\n",
       "...                                        ...    ...       ...\n",
       "16364  /extra/extraimages/extra-image-9992.jpg      3  0.463383\n",
       "16365  /extra/extraimages/extra-image-9993.jpg      2  0.895335\n",
       "16366  /extra/extraimages/extra-image-9995.jpg      3  0.988225\n",
       "16367  /extra/extraimages/extra-image-9996.jpg      3  0.992323\n",
       "16368  /extra/extraimages/extra-image-9997.jpg      1  0.893927\n",
       "\n",
       "[16369 rows x 3 columns]"
      ]
     },
     "execution_count": 24,
     "metadata": {},
     "output_type": "execute_result"
    }
   ],
   "source": [
    "#data_pseudo = pd.DataFrame({'image_id': images_paths, 'label': preds.cpu().numpy(), 'probas': probas.cpu().numpy() })\n",
    "data_pseudo = pd.read_csv('./data/data_pseudo.csv')\n",
    "data_pseudo"
   ]
  },
  {
   "cell_type": "code",
   "execution_count": 21,
   "metadata": {
    "ExecuteTime": {
     "end_time": "2021-01-06T17:36:33.733528Z",
     "start_time": "2021-01-06T17:36:33.593527Z"
    }
   },
   "outputs": [
    {
     "data": {
      "text/plain": [
       "<matplotlib.axes._subplots.AxesSubplot at 0x277f9c7c7c8>"
      ]
     },
     "execution_count": 21,
     "metadata": {},
     "output_type": "execute_result"
    },
    {
     "data": {
      "image/png": "[encoded data removed]",
      "text/plain": [
       "<Figure size 576x504 with 1 Axes>"
      ]
     },
     "metadata": {},
     "output_type": "display_data"
    }
   ],
   "source": [
    "data_pseudo.label.hist(bins=5)"
   ]
  },
  {
   "cell_type": "code",
   "execution_count": 22,
   "metadata": {
    "ExecuteTime": {
     "end_time": "2021-01-06T17:36:38.674448Z",
     "start_time": "2021-01-06T17:36:38.457394Z"
    }
   },
   "outputs": [
    {
     "data": {
      "text/plain": [
       "<matplotlib.axes._subplots.AxesSubplot at 0x2778c636988>"
      ]
     },
     "execution_count": 22,
     "metadata": {},
     "output_type": "execute_result"
    },
    {
     "data": {
      "image/png": "[encoded data removed]",
      "text/plain": [
       "<Figure size 576x504 with 1 Axes>"
      ]
     },
     "metadata": {},
     "output_type": "display_data"
    }
   ],
   "source": [
    "data_pseudo.probas.hist(bins=100)"
   ]
  },
  {
   "cell_type": "code",
   "execution_count": 23,
   "metadata": {
    "ExecuteTime": {
     "end_time": "2021-01-06T17:36:54.170089Z",
     "start_time": "2021-01-06T17:36:54.118091Z"
    }
   },
   "outputs": [],
   "source": [
    "data_pseudo.to_csv('./data/data_pseudo.csv', index=False)"
   ]
  },
  {
   "cell_type": "code",
   "execution_count": 25,
   "metadata": {
    "ExecuteTime": {
     "end_time": "2021-01-06T17:37:24.537271Z",
     "start_time": "2021-01-06T17:37:24.493274Z"
    }
   },
   "outputs": [],
   "source": [
    "data_extra = pd.read_csv('./data/train_extra.csv')"
   ]
  },
  {
   "cell_type": "code",
   "execution_count": 26,
   "metadata": {
    "ExecuteTime": {
     "end_time": "2021-01-06T17:37:24.939555Z",
     "start_time": "2021-01-06T17:37:24.810554Z"
    }
   },
   "outputs": [
    {
     "data": {
      "text/plain": [
       "<matplotlib.axes._subplots.AxesSubplot at 0x277ada175c8>"
      ]
     },
     "execution_count": 26,
     "metadata": {},
     "output_type": "execute_result"
    },
    {
     "data": {
      "image/png": "[encoded data removed]",
      "text/plain": [
       "<Figure size 576x504 with 1 Axes>"
      ]
     },
     "metadata": {},
     "output_type": "display_data"
    }
   ],
   "source": [
    "data_extra.label.hist(bins=5)"
   ]
  },
  {
   "cell_type": "code",
   "execution_count": 52,
   "metadata": {
    "ExecuteTime": {
     "end_time": "2021-01-06T17:54:57.821380Z",
     "start_time": "2021-01-06T17:54:57.801381Z"
    }
   },
   "outputs": [
    {
     "data": {
      "text/html": [
       "<div>\n",
       "<style scoped>\n",
       "    .dataframe tbody tr th:only-of-type {\n",
       "        vertical-align: middle;\n",
       "    }\n",
       "\n",
       "    .dataframe tbody tr th {\n",
       "        vertical-align: top;\n",
       "    }\n",
       "\n",
       "    .dataframe thead th {\n",
       "        text-align: right;\n",
       "    }\n",
       "</style>\n",
       "<table border=\"1\" class=\"dataframe\">\n",
       "  <thead>\n",
       "    <tr style=\"text-align: right;\">\n",
       "      <th></th>\n",
       "      <th>image_id</th>\n",
       "      <th>label</th>\n",
       "    </tr>\n",
       "  </thead>\n",
       "  <tbody>\n",
       "    <tr>\n",
       "      <th>0</th>\n",
       "      <td>/extra/test/0/test-img-0.jpg</td>\n",
       "      <td>1</td>\n",
       "    </tr>\n",
       "    <tr>\n",
       "      <th>1</th>\n",
       "      <td>/extra/test/0/test-img-1.jpg</td>\n",
       "      <td>1</td>\n",
       "    </tr>\n",
       "    <tr>\n",
       "      <th>3</th>\n",
       "      <td>/extra/test/0/test-img-100.jpg</td>\n",
       "      <td>2</td>\n",
       "    </tr>\n",
       "    <tr>\n",
       "      <th>4</th>\n",
       "      <td>/extra/test/0/test-img-1000.jpg</td>\n",
       "      <td>1</td>\n",
       "    </tr>\n",
       "    <tr>\n",
       "      <th>9</th>\n",
       "      <td>/extra/test/0/test-img-1005.jpg</td>\n",
       "      <td>2</td>\n",
       "    </tr>\n",
       "    <tr>\n",
       "      <th>...</th>\n",
       "      <td>...</td>\n",
       "      <td>...</td>\n",
       "    </tr>\n",
       "    <tr>\n",
       "      <th>16356</th>\n",
       "      <td>/extra/extraimages/extra-image-9982.jpg</td>\n",
       "      <td>2</td>\n",
       "    </tr>\n",
       "    <tr>\n",
       "      <th>16359</th>\n",
       "      <td>/extra/extraimages/extra-image-9987.jpg</td>\n",
       "      <td>0</td>\n",
       "    </tr>\n",
       "    <tr>\n",
       "      <th>16362</th>\n",
       "      <td>/extra/extraimages/extra-image-999.jpg</td>\n",
       "      <td>0</td>\n",
       "    </tr>\n",
       "    <tr>\n",
       "      <th>16365</th>\n",
       "      <td>/extra/extraimages/extra-image-9993.jpg</td>\n",
       "      <td>2</td>\n",
       "    </tr>\n",
       "    <tr>\n",
       "      <th>16368</th>\n",
       "      <td>/extra/extraimages/extra-image-9997.jpg</td>\n",
       "      <td>1</td>\n",
       "    </tr>\n",
       "  </tbody>\n",
       "</table>\n",
       "<p>3501 rows × 2 columns</p>\n",
       "</div>"
      ],
      "text/plain": [
       "                                      image_id  label\n",
       "0                 /extra/test/0/test-img-0.jpg      1\n",
       "1                 /extra/test/0/test-img-1.jpg      1\n",
       "3               /extra/test/0/test-img-100.jpg      2\n",
       "4              /extra/test/0/test-img-1000.jpg      1\n",
       "9              /extra/test/0/test-img-1005.jpg      2\n",
       "...                                        ...    ...\n",
       "16356  /extra/extraimages/extra-image-9982.jpg      2\n",
       "16359  /extra/extraimages/extra-image-9987.jpg      0\n",
       "16362   /extra/extraimages/extra-image-999.jpg      0\n",
       "16365  /extra/extraimages/extra-image-9993.jpg      2\n",
       "16368  /extra/extraimages/extra-image-9997.jpg      1\n",
       "\n",
       "[3501 rows x 2 columns]"
      ]
     },
     "execution_count": 52,
     "metadata": {},
     "output_type": "execute_result"
    }
   ],
   "source": [
    "data_pseudo_filtered = data_pseudo[(data_pseudo.probas > 0.8) & (data_pseudo.label != 3)][['image_id', 'label']]\n",
    "#data_pseudo_filtered = data_pseudo[data_pseudo.probas > 0.95][['image_id', 'label']]\n",
    "data_pseudo_filtered"
   ]
  },
  {
   "cell_type": "code",
   "execution_count": 53,
   "metadata": {
    "ExecuteTime": {
     "end_time": "2021-01-06T17:54:58.456380Z",
     "start_time": "2021-01-06T17:54:58.327382Z"
    },
    "scrolled": true
   },
   "outputs": [
    {
     "data": {
      "text/plain": [
       "<matplotlib.axes._subplots.AxesSubplot at 0x2781cad03c8>"
      ]
     },
     "execution_count": 53,
     "metadata": {},
     "output_type": "execute_result"
    },
    {
     "data": {
      "image/png": "[encoded data removed]",
      "text/plain": [
       "<Figure size 576x504 with 1 Axes>"
      ]
     },
     "metadata": {},
     "output_type": "display_data"
    }
   ],
   "source": [
    "data_pseudo_filtered.label.hist(bins=5)"
   ]
  },
  {
   "cell_type": "code",
   "execution_count": 45,
   "metadata": {
    "ExecuteTime": {
     "end_time": "2021-01-06T17:41:53.848204Z",
     "start_time": "2021-01-06T17:41:53.543168Z"
    }
   },
   "outputs": [
    {
     "data": {
      "image/png": "[encoded data removed]",
      "text/plain": [
       "<Figure size 576x504 with 1 Axes>"
      ]
     },
     "metadata": {},
     "output_type": "display_data"
    }
   ],
   "source": [
    "data_extra_pseudo = pd.concat([data_extra, data_pseudo_filtered])\n",
    "\n",
    "plt.hist(data_extra_pseudo.label, bins=5)\n",
    "plt.hist(data_extra.label, bins=5)\n",
    "plt.hist(data_pseudo.label, bins=5)\n",
    "plt.show()"
   ]
  },
  {
   "cell_type": "code",
   "execution_count": 46,
   "metadata": {
    "ExecuteTime": {
     "end_time": "2021-01-06T17:41:58.518948Z",
     "start_time": "2021-01-06T17:41:58.464949Z"
    }
   },
   "outputs": [],
   "source": [
    "data_extra_pseudo.to_csv('./data/data_extra_pseudo.csv', index=False)"
   ]
  },
  {
   "cell_type": "code",
   "execution_count": 47,
   "metadata": {
    "ExecuteTime": {
     "end_time": "2021-01-06T17:42:00.738522Z",
     "start_time": "2021-01-06T17:42:00.705522Z"
    }
   },
   "outputs": [
    {
     "data": {
      "text/html": [
       "<div>\n",
       "<style scoped>\n",
       "    .dataframe tbody tr th:only-of-type {\n",
       "        vertical-align: middle;\n",
       "    }\n",
       "\n",
       "    .dataframe tbody tr th {\n",
       "        vertical-align: top;\n",
       "    }\n",
       "\n",
       "    .dataframe thead th {\n",
       "        text-align: right;\n",
       "    }\n",
       "</style>\n",
       "<table border=\"1\" class=\"dataframe\">\n",
       "  <thead>\n",
       "    <tr style=\"text-align: right;\">\n",
       "      <th></th>\n",
       "      <th>image_id</th>\n",
       "      <th>label</th>\n",
       "    </tr>\n",
       "  </thead>\n",
       "  <tbody>\n",
       "    <tr>\n",
       "      <th>0</th>\n",
       "      <td>train_images/3228239886.jpg</td>\n",
       "      <td>0</td>\n",
       "    </tr>\n",
       "    <tr>\n",
       "      <th>1</th>\n",
       "      <td>train_images/3241038013.jpg</td>\n",
       "      <td>3</td>\n",
       "    </tr>\n",
       "    <tr>\n",
       "      <th>2</th>\n",
       "      <td>train_images/2661420264.jpg</td>\n",
       "      <td>3</td>\n",
       "    </tr>\n",
       "    <tr>\n",
       "      <th>3</th>\n",
       "      <td>train_images/4192933342.jpg</td>\n",
       "      <td>3</td>\n",
       "    </tr>\n",
       "    <tr>\n",
       "      <th>4</th>\n",
       "      <td>train_images/4245562546.jpg</td>\n",
       "      <td>3</td>\n",
       "    </tr>\n",
       "    <tr>\n",
       "      <th>...</th>\n",
       "      <td>...</td>\n",
       "      <td>...</td>\n",
       "    </tr>\n",
       "    <tr>\n",
       "      <th>16356</th>\n",
       "      <td>/extra/extraimages/extra-image-9982.jpg</td>\n",
       "      <td>2</td>\n",
       "    </tr>\n",
       "    <tr>\n",
       "      <th>16359</th>\n",
       "      <td>/extra/extraimages/extra-image-9987.jpg</td>\n",
       "      <td>0</td>\n",
       "    </tr>\n",
       "    <tr>\n",
       "      <th>16362</th>\n",
       "      <td>/extra/extraimages/extra-image-999.jpg</td>\n",
       "      <td>0</td>\n",
       "    </tr>\n",
       "    <tr>\n",
       "      <th>16365</th>\n",
       "      <td>/extra/extraimages/extra-image-9993.jpg</td>\n",
       "      <td>2</td>\n",
       "    </tr>\n",
       "    <tr>\n",
       "      <th>16368</th>\n",
       "      <td>/extra/extraimages/extra-image-9997.jpg</td>\n",
       "      <td>1</td>\n",
       "    </tr>\n",
       "  </tbody>\n",
       "</table>\n",
       "<p>25143 rows × 2 columns</p>\n",
       "</div>"
      ],
      "text/plain": [
       "                                      image_id  label\n",
       "0                  train_images/3228239886.jpg      0\n",
       "1                  train_images/3241038013.jpg      3\n",
       "2                  train_images/2661420264.jpg      3\n",
       "3                  train_images/4192933342.jpg      3\n",
       "4                  train_images/4245562546.jpg      3\n",
       "...                                        ...    ...\n",
       "16356  /extra/extraimages/extra-image-9982.jpg      2\n",
       "16359  /extra/extraimages/extra-image-9987.jpg      0\n",
       "16362   /extra/extraimages/extra-image-999.jpg      0\n",
       "16365  /extra/extraimages/extra-image-9993.jpg      2\n",
       "16368  /extra/extraimages/extra-image-9997.jpg      1\n",
       "\n",
       "[25143 rows x 2 columns]"
      ]
     },
     "execution_count": 47,
     "metadata": {},
     "output_type": "execute_result"
    }
   ],
   "source": [
    "data_extra_train = pd.read_csv('./data/data_extra_train.csv')\n",
    "data_extra_pseudo_train = pd.concat([data_extra_train, data_pseudo_filtered])\n",
    "data_extra_pseudo_train"
   ]
  },
  {
   "cell_type": "code",
   "execution_count": 48,
   "metadata": {
    "ExecuteTime": {
     "end_time": "2021-01-06T17:42:04.820391Z",
     "start_time": "2021-01-06T17:42:04.777392Z"
    }
   },
   "outputs": [],
   "source": [
    "data_extra_pseudo_train.to_csv('./data/data_extra_pseudo_train.csv', index=False)"
   ]
  },
  {
   "cell_type": "code",
   "execution_count": 49,
   "metadata": {
    "ExecuteTime": {
     "end_time": "2021-01-06T17:42:07.807974Z",
     "start_time": "2021-01-06T17:42:07.787973Z"
    }
   },
   "outputs": [],
   "source": [
    "data_extra_pseudo_val = pd.read_csv('./data/data_extra_val.csv')\n",
    "data_extra_pseudo_val.to_csv('./data/data_extra_pseudo_val.csv', index=False)"
   ]
  }
 ],
 "metadata": {
  "kernelspec": {
   "display_name": "Python 3",
   "language": "python",
   "name": "python3"
  },
  "language_info": {
   "codemirror_mode": {
    "name": "ipython",
    "version": 3
   },
   "file_extension": ".py",
   "mimetype": "text/x-python",
   "name": "python",
   "nbconvert_exporter": "python",
   "pygments_lexer": "ipython3",
   "version": "3.7.6"
  },
  "toc": {
   "base_numbering": 1,
   "nav_menu": {},
   "number_sections": true,
   "sideBar": true,
   "skip_h1_title": false,
   "title_cell": "Table of Contents",
   "title_sidebar": "Contents",
   "toc_cell": false,
   "toc_position": {},
   "toc_section_display": true,
   "toc_window_display": false
  }
 },
 "nbformat": 4,
 "nbformat_minor": 4
}
